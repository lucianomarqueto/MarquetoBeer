{
  "nbformat": 4,
  "nbformat_minor": 0,
  "metadata": {
    "colab": {
      "name": "AnaliseInicial.ipynb",
      "version": "0.3.2",
      "provenance": [],
      "include_colab_link": true
    },
    "kernelspec": {
      "name": "python3",
      "display_name": "Python 3"
    }
  },
  "cells": [
    {
      "cell_type": "markdown",
      "metadata": {
        "id": "view-in-github",
        "colab_type": "text"
      },
      "source": [
        "<a href=\"https://colab.research.google.com/github/lucianomarqueto/MarquetoBeer/blob/master/AnaliseInicial.ipynb\" target=\"_parent\"><img src=\"https://colab.research.google.com/assets/colab-badge.svg\" alt=\"Open In Colab\"/></a>"
      ]
    },
    {
      "cell_type": "markdown",
      "metadata": {
        "id": "QJksoCJmlZbF",
        "colab_type": "text"
      },
      "source": [
        "Montar google Drive"
      ]
    },
    {
      "cell_type": "code",
      "metadata": {
        "id": "RY1oLSxuliUL",
        "colab_type": "code",
        "outputId": "95ba29ad-e3c6-48c5-a2b4-ad3b75c69318",
        "colab": {
          "base_uri": "https://localhost:8080/",
          "height": 34
        }
      },
      "source": [
        "from google.colab import drive\n",
        "drive.mount('/content/drive')"
      ],
      "execution_count": 7,
      "outputs": [
        {
          "output_type": "stream",
          "text": [
            "Drive already mounted at /content/drive; to attempt to forcibly remount, call drive.mount(\"/content/drive\", force_remount=True).\n"
          ],
          "name": "stdout"
        }
      ]
    },
    {
      "cell_type": "code",
      "metadata": {
        "id": "5VXZfSX3mtg5",
        "colab_type": "code",
        "colab": {
          "base_uri": "https://localhost:8080/",
          "height": 34
        },
        "outputId": "cdaa30d7-5dd6-4824-833d-7a8162d05cdc"
      },
      "source": [
        "import os\n",
        "dirpath = os.getcwd()\n",
        "print(dirpath)"
      ],
      "execution_count": 6,
      "outputs": [
        {
          "output_type": "stream",
          "text": [
            "/gdrive\n"
          ],
          "name": "stdout"
        }
      ]
    },
    {
      "cell_type": "code",
      "metadata": {
        "id": "N3QR0g55ljLr",
        "colab_type": "code",
        "colab": {}
      },
      "source": [
        "\n",
        "path = 'c:\\\\projects\\\\hc2\\\\'\n",
        "\n",
        "files = []\n",
        "# r=root, d=directories, f = files\n",
        "for r, d, f in os.walk(path):\n",
        "    for file in f:\n",
        "        if '.txt' in file:\n",
        "            files.append(os.path.join(r, file))\n",
        "\n",
        "for f in files:\n",
        "    print(f)"
      ],
      "execution_count": 0,
      "outputs": []
    }
  ]
}